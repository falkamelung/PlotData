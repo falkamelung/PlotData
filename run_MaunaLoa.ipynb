{
 "cells": [
  {
   "cell_type": "code",
   "execution_count": null,
   "id": "092dde9e-6732-442b-9a17-9b2d09b62080",
   "metadata": {},
   "outputs": [],
   "source": [
    "import os\n",
    "import sys\n",
    "import urllib\n",
    "import glob\n",
    "import matplotlib as mpl\n",
    "import matplotlib.pyplot as plt\n",
    "from matplotlib.backends.backend_pdf import PdfPages\n",
    "from matplotlib.colors import LinearSegmentedColormap\n",
    "from mintpy.utils import readfile, writefile, utils as ut\n",
    "from mintpy.defaults.plot import *\n",
    "from mintpy.objects.gps import search_gps, GPS\n",
    "from mintpy.objects import sensor\n",
    "from mintpy.view import prep_slice, plot_slice\n",
    "from mintpy.cli import view, timeseries2velocity, reference_point, asc_desc2horz_vert, save_gdal, mask\n",
    "import plot_data\n",
    "\n",
    "%load_ext jupyter_ai\n",
    "%load_ext autoreload\n",
    "%autoreload 2"
   ]
  },
  {
   "cell_type": "code",
   "execution_count": null,
   "id": "b44959f5-1d5b-4520-b7de-def5853fa765",
   "metadata": {},
   "outputs": [],
   "source": [
    "#%%capture --no-display\n",
    "\n",
    "# cmd = 'plot_data.py MaunaLoaSenDT87/mintpy_5_20 MaunaLoaSenAT124/mintpy_5_20 --period 20181012-20220801 --plot-type velocity --mask-thresh 0.90 --ref-point 19.55,-155.45 --vlim -5 5 --save-gbis'\n",
    "# plot_data.main(cmd.split()[1:])\n",
    "\n",
    "# # cmd = 'plot_data.py MaunaLoaSenDT87/mintpy_5_20 MaunaLoaSenAT124/mintpy_5_20 --period 20220801-20221127 --plot-type velocity --mask-thresh 0.90 --ref-point 19.55,-155.45 --vlim -20 20 --save-gbis'\n",
    "# # plot_data.main(cmd.split()[1:])\n",
    "\n",
    "# # cmd = 'plot_data.py MaunaLoaSenDT87/mintpy_5_20 MaunaLoaSenAT124/mintpy_5_20 --period 20221219-20230228 --plot-type velocity --mask-thresh 0.90 --ref-point 19.55,-155.45 --vlim -50 50 --save-gbis'\n",
    "# # plot_data.main(cmd.split()[1:])\n",
    "\n",
    "# cmd = 'plot_data.py MaunaLoaSenDT87/mintpy_5_20 MaunaLoaSenAT124/mintpy_5_20 --period 20230228-20230630 --plot-type velocity --mask-thresh 0.90  --vlim -25 25 --save-gbis'\n",
    "# plot_data.main(cmd.split()[1:])\n",
    "\n",
    "cmd = 'plot_data.py MaunaLoaSenDT87/mintpy_5_20 MaunaLoaSenAT124/mintpy_5_20 --period 20221127-20221219 --plot-type velocity --ref-point 19.55,-155.45' \n",
    "plot_data.main(cmd.split()[1:])"
   ]
  },
  {
   "cell_type": "code",
   "execution_count": null,
   "id": "24004ef6-cf93-45f5-9643-6403e6bf0633",
   "metadata": {
    "jupyter": {
     "source_hidden": true
    }
   },
   "outputs": [],
   "source": [
    "\n",
    "cmd = 'plot_data.py MaunaLoaSenDT87/mintpy_5_20 MaunaLoaSenAT124/mintpy_5_20 --period 20230630-20231110 --plot-type velocity --mask-thresh 0.90 --ref-point 19.55,-155.45 --vlim -10 10 --save-gbis'\n",
    "plot_data.main(cmd.split()[1:])\n"
   ]
  },
  {
   "cell_type": "code",
   "execution_count": null,
   "id": "955a5005-dddb-4e61-8560-a11d4f58d5ae",
   "metadata": {},
   "outputs": [],
   "source": [
    "cmd = 'plot_data.py MaunaLoaSenDT87/mintpy_5_20 --period 20230630-20231110 --plot-type velocity' \n",
    "plot_data.main(cmd.split()[1:])"
   ]
  },
  {
   "cell_type": "code",
   "execution_count": null,
   "id": "04dc6b45-d847-49df-a26f-6097421f023d",
   "metadata": {},
   "outputs": [],
   "source": []
  }
 ],
 "metadata": {
  "kernelspec": {
   "display_name": "Python 3 (ipykernel)",
   "language": "python",
   "name": "python3"
  },
  "language_info": {
   "codemirror_mode": {
    "name": "ipython",
    "version": 3
   },
   "file_extension": ".py",
   "mimetype": "text/x-python",
   "name": "python",
   "nbconvert_exporter": "python",
   "pygments_lexer": "ipython3",
   "version": "3.11.6"
  }
 },
 "nbformat": 4,
 "nbformat_minor": 5
}
