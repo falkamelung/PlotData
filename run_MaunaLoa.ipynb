{
 "cells": [
  {
   "cell_type": "markdown",
   "id": "9de0f1b3-cf07-4744-9b28-08e48dc85238",
   "metadata": {},
   "source": [
    "## Plot Sentinel InSAR data for Mauna Loa volcano\n",
    "This notebook does multiple calls of `plot_data.py` to visualize the displacement history. For options see `plot_data.py --help`"
   ]
  },
  {
   "cell_type": "code",
   "execution_count": null,
   "id": "092dde9e-6732-442b-9a17-9b2d09b62080",
   "metadata": {},
   "outputs": [],
   "source": [
    "import os\n",
    "import sys\n",
    "import urllib\n",
    "import glob\n",
    "import matplotlib as mpl\n",
    "import matplotlib.pyplot as plt\n",
    "from matplotlib.backends.backend_pdf import PdfPages\n",
    "from matplotlib.colors import LinearSegmentedColormap\n",
    "from mintpy.utils import readfile, writefile, utils as ut\n",
    "from mintpy.defaults.plot import *\n",
    "from mintpy.objects.gps import search_gps, GPS\n",
    "from mintpy.objects import sensor\n",
    "from mintpy.view import prep_slice, plot_slice\n",
    "from mintpy.cli import view, timeseries2velocity, reference_point, asc_desc2horz_vert, save_gdal, mask\n",
    "import plot_data\n",
    "%load_ext jupyter_ai\n",
    "%load_ext autoreload\n",
    "%autoreload 2"
   ]
  },
  {
   "cell_type": "markdown",
   "id": "69d5f2e4-5cec-491d-8cee-ae76b51d4060",
   "metadata": {},
   "source": [
    " Modify the `cmd` command to test plot options."
   ]
  },
  {
   "cell_type": "code",
   "execution_count": null,
   "id": "b44959f5-1d5b-4520-b7de-def5853fa765",
   "metadata": {},
   "outputs": [],
   "source": [
    "%%capture --no-display\n",
    "# cmd = 'plot_data.py MaunaLoaSenDT87/mintpy_5_20 MaunaLoaSenAT124/mintpy_5_20 --period 20220801-20221127 --plot-type velocity --mask-thresh 0.90 --ref-point 19.55,-155.45 --vlim -20 20'\n",
    "# plot_data.main(cmd.split()[1:])\n",
    "\n",
    "cmd = 'plot_data.py MaunaLoaSenDT87/mintpy_5_20 MaunaLoaSenAT124/mintpy_5_20 --period 20221127-20221219 --plot-type velocity --mask-thresh 0.90 --ref-point 19.55,-155.45 --vlim -20 20' \n",
    "plot_data.main(cmd.split()[1:])\n"
   ]
  },
  {
   "cell_type": "code",
   "execution_count": null,
   "id": "fc9c8642-fc4b-4d55-8660-3bf8b6d97ee6",
   "metadata": {},
   "outputs": [],
   "source": [
    "## Time history\n",
    "Loop over multiple time periods"
   ]
  },
  {
   "cell_type": "code",
   "execution_count": null,
   "id": "154de13c-9084-40bc-b9a5-3e3c33499e5f",
   "metadata": {},
   "outputs": [],
   "source": [
    "%%capture --no-display\n",
    "add_opt = ''\n",
    "common_opt='MaunaLoaSenDT87/mintpy_5_20 MaunaLoaSenAT124/mintpy_5_20 --plot-type velocity --mask-thresh 0.90 --ref-point 19.55,-155.45'\n",
    "# add_opt = '--GPS --seismicity --save_gbis'\n",
    "cmd_list = [  \n",
    "                 '--period 20181012-20220801 --vlim -5 5'   ,\n",
    "            #    '--period 20220801-20221127 --vlim -25 25'  ,\n",
    "            #    '--period 20221127-20221219 --vlim -8 8 --unit m',\n",
    "            #     '--period 20221219-20230328 --vlim -50 50',\n",
    "                 '--period 20230328-20231110 --vlim -20 20'          \n",
    "        ] \n",
    "    \n",
    "for tok in cmd_list:\n",
    "    cmd=['plot_data.py ' + common_opt + ' ' + tok + ' ' + add_opt][0]\n",
    "    print(cmd)\n",
    "    print(cmd.split()[1:])\n",
    "    plot_data.main(cmd.split()[1:])"
   ]
  }
 ],
 "metadata": {
  "kernelspec": {
   "display_name": "Python 3 (ipykernel)",
   "language": "python",
   "name": "python3"
  },
  "language_info": {
   "codemirror_mode": {
    "name": "ipython",
    "version": 3
   },
   "file_extension": ".py",
   "mimetype": "text/x-python",
   "name": "python",
   "nbconvert_exporter": "python",
   "pygments_lexer": "ipython3",
   "version": "3.11.6"
  }
 },
 "nbformat": 4,
 "nbformat_minor": 5
}
