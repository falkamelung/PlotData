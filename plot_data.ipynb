{
 "cells": [
  {
   "cell_type": "code",
   "execution_count": 1,
   "metadata": {},
   "outputs": [
    {
     "ename": "ModuleNotFoundError",
     "evalue": "No module named 'plot_data'",
     "output_type": "error",
     "traceback": [
      "\u001b[0;31m---------------------------------------------------------------------------\u001b[0m",
      "\u001b[0;31mModuleNotFoundError\u001b[0m                       Traceback (most recent call last)",
      "Cell \u001b[0;32mIn[1], line 36\u001b[0m\n\u001b[1;32m     34\u001b[0m \u001b[38;5;28;01mfrom\u001b[39;00m \u001b[38;5;21;01mutils\u001b[39;00m\u001b[38;5;21;01m.\u001b[39;00m\u001b[38;5;21;01mseismicity\u001b[39;00m \u001b[38;5;28;01mimport\u001b[39;00m get_earthquakes\n\u001b[1;32m     35\u001b[0m \u001b[38;5;28;01mfrom\u001b[39;00m \u001b[38;5;21;01mutils\u001b[39;00m\u001b[38;5;21;01m.\u001b[39;00m\u001b[38;5;21;01mseismicity\u001b[39;00m \u001b[38;5;28;01mimport\u001b[39;00m normalize_earthquake_times\n\u001b[0;32m---> 36\u001b[0m \u001b[38;5;28;01mfrom\u001b[39;00m \u001b[38;5;21;01mutils\u001b[39;00m\u001b[38;5;21;01m.\u001b[39;00m\u001b[38;5;21;01mgps\u001b[39;00m \u001b[38;5;28;01mimport\u001b[39;00m get_GPS\n",
      "File \u001b[0;32m~/code/rsmas_insar/tools/plotdata/utils/gps.py:7\u001b[0m\n\u001b[1;32m      4\u001b[0m \u001b[38;5;28;01mfrom\u001b[39;00m \u001b[38;5;21;01mpandas\u001b[39;00m \u001b[38;5;28;01mimport\u001b[39;00m read_csv\n\u001b[1;32m      5\u001b[0m \u001b[38;5;28;01mfrom\u001b[39;00m \u001b[38;5;21;01mdatetime\u001b[39;00m \u001b[38;5;28;01mimport\u001b[39;00m datetime, timezone\n\u001b[0;32m----> 7\u001b[0m \u001b[38;5;28;01mfrom\u001b[39;00m \u001b[38;5;21;01mplot_data\u001b[39;00m\u001b[38;5;21;01m.\u001b[39;00m\u001b[38;5;21;01mipynb\u001b[39;00m \u001b[38;5;28;01mimport\u001b[39;00m data_dir\n\u001b[1;32m      9\u001b[0m \u001b[38;5;28;01mdef\u001b[39;00m \u001b[38;5;21mget_GPS\u001b[39m(GPS_list_file, plot_box, start_date, end_date, unit, key_length):\n\u001b[1;32m     11\u001b[0m     \u001b[38;5;28mprint\u001b[39m(\u001b[38;5;124m'\u001b[39m\u001b[38;5;124min get_GPS\u001b[39m\u001b[38;5;124m'\u001b[39m)\n",
      "\u001b[0;31mModuleNotFoundError\u001b[0m: No module named 'plot_data'"
     ]
    }
   ],
   "source": [
    "import os\n",
    "import urllib\n",
    "import csv\n",
    "import glob\n",
    "import numpy as np\n",
    "import pandas as pd\n",
    "from pandas import concat\n",
    "from pandas import DataFrame\n",
    "import matplotlib as mpl\n",
    "from matplotlib.backends.backend_pdf import PdfPages\n",
    "import cartopy.crs as ccrs\n",
    "import cartopy.feature as cfeature\n",
    "from sklearn import datasets, linear_model\n",
    "import scipy.io as sio\n",
    "import datetime\n",
    "import requests\n",
    "from dateutil.relativedelta import relativedelta\n",
    "import contextily as ctx\n",
    "from matplotlib.colors import LinearSegmentedColormap\n",
    "from datetime import datetime, timezone\n",
    "from mintpy.utils import readfile, writefile\n",
    "from mintpy.defaults.plot import *\n",
    "from mintpy.objects.gps import search_gps, GPS\n",
    "from mintpy.objects import sensor\n",
    "from mintpy.utils import utils as ut\n",
    "from mintpy.view import prep_slice, plot_slice\n",
    "from mintpy.cli import view, timeseries2velocity\n",
    "%load_ext jupyter_ai\n",
    "# import utils.gps\n",
    "# import utils.insar\n",
    "# import utils.plot_functions\n",
    "from utils.plot_functions import get_basemap\n",
    "from utils.plot_functions import modify_colormap\n",
    "from utils.seismicity import get_earthquakes\n",
    "from utils.seismicity import normalize_earthquake_times\n",
    "from utils.gps import get_GPS\n"
   ]
  },
  {
   "cell_type": "code",
   "execution_count": null,
   "metadata": {},
   "outputs": [],
   "source": [
    "# Hard-wired and optional parameters\n",
    "data_dir = os.getenv('SCRATCHDIR') + '/MaunaLoa/MLtry/data/'\n",
    "dem_file = data_dir + 'demGeo.h5'\n",
    "lines=sio.loadmat(data_dir + '/hawaii_lines_new.mat',squeeze_me=True);\n",
    "GPS_list_file = data_dir + 'GPS_BenBrooks_03-05full.txt'\n",
    "work_dir = os.path.expanduser('~/offline/MaunaLoaSenDT87/mintpy/geo')\n",
    "depth_range=\"0 10\"\n",
    "cmap_name = \"plasma_r\"; exclude_beginning = 0.2; exclude_end = 0.2\n",
    "plot_box =[19.29, 19.6, -155.79, -155.41]\n",
    "\n",
    "date12 = '20221216_20230202'\n",
    "start_date, end_date, scale_fac, key_length, unit =\"20180905\", \"20201229\", 500, 4, \"cm\"\n"
   ]
  },
  {
   "cell_type": "code",
   "execution_count": null,
   "metadata": {},
   "outputs": [],
   "source": [
    "# get dem, earthquake and GPS data, normalize event times for plotting)\n",
    "dem_shade, dem_extent = get_basemap(dem_file)\n",
    "events_df = get_earthquakes(start_date, end_date, plot_box)\n",
    "# norm_times = normalize_earthquake_times(events_df, start_date, end_date)\n",
    "norm_times = normalize_earthquake_times(events_df, start_date, end_date)\n",
    "cmap = modify_colormap( cmap_name = cmap_name, exclude_beginning = exclude_beginning, exclude_end = exclude_end, show = False)\n",
    "\n",
    "gps,lon,lat,U,V,Z,quiver_label = get_GPS(GPS_list_file, plot_box, start_date, end_date, unit, key_length)\n",
    "\n",
    "data_dir1 = \"MaunaLoaSenAT124/mintpy/S1_IW23_124_0059_0063_20180905_XXXXXXXX_N19122_N19785_W155940_W155223.he5\"\n",
    "data_dir1 = os.getenv('SCRATCHDIR') + '/MaunaLoaSenAT124/mintpy/S1_IW23_124_0059_0063_20180905_XXXXXXXX_N19122_N19785_W155940_W155223.he5'\n",
    "data_dir1 = \"MaunaLoaSenAT124\"\n",
    "\n",
    "plot_type = 'ifgram' \n",
    "plot_type = 'shaded_relief' \n",
    "plot_type = 'timeseries' "
   ]
  },
  {
   "cell_type": "code",
   "execution_count": null,
   "metadata": {},
   "outputs": [],
   "source": [
    "%%capture\n",
    "if plot_type is 'timeseries':\n",
    "    eos_file, out_dir, vel_file = get_eos_file(data_dir1)\n",
    "    cmd = f'{eos_file} --start-date {start_date} --end-date {end_date} --output {vel_file}'\n",
    "    timeseries2velocity.main( cmd.split() )"
   ]
  },
  {
   "cell_type": "code",
   "execution_count": null,
   "metadata": {},
   "outputs": [],
   "source": [
    "# Cell to plot GPS on shaded relief or interferogram\n",
    "fig, ax = plt.subplots(figsize=[12, 5] )\n",
    "\n",
    "if plot_type is 'shaded_relief':\n",
    "    plot_shaded_relief(ax, dem_file, plot_box = plot_box)\n",
    "else:\n",
    "    if plot_type is 'timeseries':\n",
    "        cmd = generate_view_velocity_cmd(vel_file, plot_box)\n",
    "    elif plot_type is 'ifgram':\n",
    "        cmd = generate_view_ifgram_cmd(work_dir, date12, plot_box)\n",
    "    data, atr, inps = prep_slice(cmd)\n",
    "    ax, inps, im, cbar = plot_slice(ax, data, atr, inps)\n",
    "\n",
    "# plot lines and events\n",
    "ax.scatter(events_df[\"Longitude\"],events_df[\"Latitude\"],s=2*events_df[\"Magnitude\"] ** 3,\n",
    "         c=norm_times,cmap=cmap,alpha=0.8)\n",
    "add_colorbar(cmap = cmap, start_date = start_date, end_date = end_date)\n",
    "ax.set_title('Events:  ' + start_date + ' - ' + end_date);\n",
    "quiv=ax.quiver(lon, lat, U, V, scale = scale_fac, color='blue')\n",
    "ax.quiverkey(quiv, -155.50, 19.57, key_length*10 , quiver_label, labelpos='N',coordinates='data',\n",
    "                  color='blue',fontproperties={'size': 20}) "
   ]
  },
  {
   "cell_type": "code",
   "execution_count": null,
   "metadata": {},
   "outputs": [],
   "source": [
    "# # print(eos_file)\n",
    "# atr = readfile.read_attribute(eos_file)\n",
    "# mask, dict_mask = readfile.read(eos_file, datasetName=\"/HDFEOS/GRIDS/timeseries/quality/mask\")\n",
    "# # temporal_coherence, dict_temp_coh = readfile.read(eos_file, datasetName=\"/HDFEOS/GRIDS/timeseries/quality/temporalCoherence\")\n",
    "\n",
    "# atr['FILE_TYPE'] = 'mask'\n",
    "# mask_file = vel_file.replace('velocity','maskTempCoh')\n",
    "# writefile.write(mask, out_file=mask_file, metadata=atr)\n",
    "\n",
    "# fig, ax = plt.subplots(figsize=[12, 5])\n",
    "# cmd = generate_view_velocity_cmd(vel_file, mask_file, plot_box)\n",
    "# #cmd = generate_view_velocity2_cmd(vel_file, mask_file, plot_box)\n",
    "\n",
    "# print(cmd)\n",
    "# data, atr, inps = prep_slice(cmd)\n",
    "# ax, inps, im, cbar = plot_slice(ax, data, atr, inps)"
   ]
  }
 ],
 "metadata": {
  "kernelspec": {
   "display_name": "Python 3 (ipykernel)",
   "language": "python",
   "name": "python3"
  },
  "language_info": {
   "codemirror_mode": {
    "name": "ipython",
    "version": 3
   },
   "file_extension": ".py",
   "mimetype": "text/x-python",
   "name": "python",
   "nbconvert_exporter": "python",
   "pygments_lexer": "ipython3",
   "version": "3.11.5"
  }
 },
 "nbformat": 4,
 "nbformat_minor": 4
}
